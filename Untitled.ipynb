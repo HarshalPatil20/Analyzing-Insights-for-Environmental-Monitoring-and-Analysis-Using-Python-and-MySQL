{
 "cells": [
  {
   "cell_type": "markdown",
   "metadata": {},
   "source": [
    "# Data Analysis Using Python"
   ]
  },
  {
   "cell_type": "raw",
   "metadata": {},
   "source": [
    "import pandas as pd\n",
    "import warnings\n",
    "warnings.filterwarnings(\"ignore\")\n",
    "\n",
    "#Task1\n",
    "#Loading the data\n",
    "def read_data_from_csv():\n",
    "    #df =read the 'iot_telemetry_data.csv' file\n",
    "    df = pd.read_csv(\"iot_telemetry_data.csv\")\n",
    "    return df\n",
    "\n",
    "\n",
    "#Task 2: Renaming the Columns\n",
    "def rename_columns():\n",
    "    # do not edit the predefined function name\n",
    "    df=read_data_from_csv()\n",
    "    #rename the columns according to the description\n",
    "    df.rename(columns={'ts': 'timestamp', 'device': 'device_id', 'co': 'carbon_monoxide', 'lpg': 'liquefied_petroleum_gas', 'temp': 'temperature'}, inplace=True)\n",
    "    #write your code here\n",
    "    return df\n",
    "\n",
    "#Task 3: check for null values\n",
    "def null_values_check():\n",
    "    # do not edit the predefined function name\n",
    "    df=rename_columns()\n",
    "    null_values = df.isnull().sum()\n",
    "    #write your code here to check for the null values in the dataset\n",
    "    return null_values\n",
    "\n",
    "\n",
    "#Task4 :Removing Duplicates\n",
    "\n",
    "def remove_duplicates():\n",
    "    # do not edit the predefined function name\n",
    "    df=rename_columns()\n",
    "    \n",
    "    df.drop_duplicates(inplace=True)\n",
    "    #write your code here to drop the duplicates in the dataset and return the dataframe 'df' without the duplicates\n",
    "    return df\n",
    "\n",
    "\n",
    "#Task 5:Handling Missing Values:\n",
    "def handle_missing_values():\n",
    "    # do not edit the predefined function name\n",
    "    df=remove_duplicates()\n",
    "    \n",
    "    df.dropna(inplace=True)\n",
    "    #write your code here to drop the missing values in the dataset which returns the dataframe 'df' without missing values\n",
    "    return df\n",
    "\n",
    "#Task 6:Data Type Conversion:\n",
    "\n",
    "def convert_data_types():\n",
    "    # do not edit the predefined function name\n",
    "    df= handle_missing_values()\n",
    "    #write your code to change the datatype of each column to respective datatype mentioned in the task\n",
    "    #description and  return the dataframe'df' which contains updated columns datatypes.\n",
    "    df['timestamp'] = pd.to_datetime(df['timestamp'])\n",
    "\n",
    "    # Convert \"humidity\", \"light\", \"motion\", and \"temperature\" columns to appropriate types\n",
    "    df['humidity'] = df['humidity'].astype(float)\n",
    "    df['light'] = df['light'].astype(bool)\n",
    "    df['motion'] = df['motion'].astype(bool)\n",
    "    df['smoke'] = df['smoke'].astype(bool)\n",
    "    df['temperature'] = df['temperature'].astype(float)\n",
    "    return df\n",
    "\n",
    "#Task 7: Export the cleaned dataset to \"cleaned_environemnt.csv\"\n",
    "def export_the_dataset():\n",
    "    # do not edit the predefined function name\n",
    "    df=convert_data_types()\n",
    "    \n",
    "    df.to_csv(\"cleaned_environment.csv\", index=False)\n",
    "\n",
    "    # Return the DataFrame\n",
    "    return df\n",
    "    \n",
    "    \n",
    "    #write your code to export the cleaned dataset and set the index=false and return the same as 'df'\n",
    "\n",
    "\n",
    "\n",
    "#TASK 8: Load the Cleaned dataset 'cleaned_environment.csv' to the database provided.\n",
    "#follow the instruction in the Task 8 description and complete the task as per it.\n",
    "\n",
    "#check if mysql table is created using \"cleaned_environment\"\n",
    "#Use this final dataset and upload it on the provided database for performing analysis in  MySQL\n",
    "#To run this task click on the terminal and click on the run project"
   ]
  },
  {
   "cell_type": "markdown",
   "metadata": {},
   "source": [
    "# SQL"
   ]
  },
  {
   "cell_type": "markdown",
   "metadata": {},
   "source": [
    "**The task is to calculate the average temperature recorded for each device in the dataset**"
   ]
  },
  {
   "cell_type": "raw",
   "metadata": {},
   "source": [
    "SELECT device_id, AVG(temperature) AS avg_temperature \n",
    "from cleaned_environment \n",
    "GROUP BY device_id"
   ]
  },
  {
   "cell_type": "markdown",
   "metadata": {},
   "source": [
    "***Your Output: \n",
    "    Total Records Fetched: 3\n",
    "    First 10 records of your query\n",
    "    Headers: \n",
    "    device_id, avg_temperature, \n",
    "    \n",
    "    Values:\n",
    "    b8:27:eb:bf:9d:51, 21.90250558101217, \n",
    "    00:0f:00:70:91:0a, 19.1555931817043, \n",
    "    1c:bf:ce:15:ec:4d, 25.74819386883109,"
   ]
  },
  {
   "cell_type": "code",
   "execution_count": null,
   "metadata": {},
   "outputs": [],
   "source": []
  },
  {
   "cell_type": "markdown",
   "metadata": {},
   "source": [
    "**This task involves identifying the devices with the highest average carbon monoxide levels and retrieving the top 5 devices based on this metric**"
   ]
  },
  {
   "cell_type": "raw",
   "metadata": {},
   "source": [
    "SELECT device_id, AVG(carbon_monoxide) AS avg_co\n",
    "FROM cleaned_environment \n",
    "GROUP BY device_id\n",
    "ORDER BY avg_co DESC\n",
    "LIMIT 5;"
   ]
  },
  {
   "cell_type": "raw",
   "metadata": {},
   "source": [
    "***Your Output: \n",
    "    Total Records Fetched: 3\n",
    "    First 10 records of your query\n",
    "    Headers: \n",
    "    device_id, avg_co, \n",
    "    \n",
    "    Values:\n",
    "    b8:27:eb:bf:9d:51, 0.005104081998090613, \n",
    "    00:0f:00:70:91:0a, 0.004610827160288444, \n",
    "    1c:bf:ce:15:ec:4d, 0.004272419599193546, "
   ]
  },
  {
   "cell_type": "markdown",
   "metadata": {},
   "source": [
    "**The objective is to Determine the average temperature recorded in the cleaned_environment dataset.**"
   ]
  },
  {
   "cell_type": "raw",
   "metadata": {},
   "source": [
    "SELECT AVG(temperature) as avg_temp\n",
    "FROM cleaned_environment "
   ]
  },
  {
   "cell_type": "raw",
   "metadata": {},
   "source": [
    "# ***Your Output: \n",
    "    Total Records Fetched: 1\n",
    "    First 10 records of your query\n",
    "    Headers: \n",
    "    avg_temp, \n",
    "    \n",
    "    Values:\n",
    "    22.432296053374028"
   ]
  },
  {
   "cell_type": "markdown",
   "metadata": {},
   "source": [
    "**Find the timestamp and temperature of the highest recorded temperature for each device.\n",
    "This task requires identifying the highest recorded temperature for each device and retrieving the corresponding timestamp and temperature values**"
   ]
  },
  {
   "cell_type": "raw",
   "metadata": {},
   "source": [
    "WITH max_temps AS (\n",
    "    SELECT device_id, timestamp, temperature,\n",
    "           ROW_NUMBER() OVER (PARTITION BY device_id ORDER BY temperature DESC) AS row_num\n",
    "    FROM cleaned_environment\n",
    ")\n",
    "SELECT device_id, timestamp, temperature\n",
    "FROM max_temps\n",
    "WHERE row_num = 1;\n"
   ]
  },
  {
   "cell_type": "raw",
   "metadata": {},
   "source": [
    " ***Your Output: \n",
    "    Total Records Fetched: 3\n",
    "    First 10 records of your query\n",
    "    Headers: \n",
    "    device_id, timestamp, temperature, \n",
    "    \n",
    "    Values:\n",
    "    00:0f:00:70:91:0a, 1970-01-01 00:00:01.590, 19.89999962, \n",
    "    1c:bf:ce:15:ec:4d, 1970-01-01 00:00:01.590, 28.60000038, \n",
    "    b8:27:eb:bf:9d:51, 1970-01-01 00:00:01.590, 23.1, "
   ]
  },
  {
   "cell_type": "markdown",
   "metadata": {},
   "source": [
    "**The goal is to Identify devices where the temperature has increased from the minimum recorded temperature to the maximum recorded temperature**"
   ]
  },
  {
   "cell_type": "code",
   "execution_count": null,
   "metadata": {},
   "outputs": [],
   "source": [
    "SELECT device_id\n",
    "FROM cleaned_environment\n",
    "GROUP BY device_id\n",
    "HAVING MIN(temperature) < MAX(temperature);\n"
   ]
  },
  {
   "cell_type": "code",
   "execution_count": null,
   "metadata": {},
   "outputs": [],
   "source": []
  },
  {
   "cell_type": "markdown",
   "metadata": {},
   "source": [
    "**Calculate the exponential moving average (EMA) of the temperature for each device. Retrieve the device ID, timestamp, temperature, and the EMA temperature for the first 10 devices from the 'cleaned_environment' table. The EMA temperature is calculated by partitioning the data based on the device ID, ordering it by the timestamp, and considering all preceding rows up to the current row**"
   ]
  },
  {
   "cell_type": "raw",
   "metadata": {},
   "source": [
    "SELECT device_id,\n",
    "timestamp,\n",
    "temperature,\n",
    "AVG(temperature) OVER (PARTITION BY device_id ORDER BY timestamp\n",
    "ROWS BETWEEN UNBOUNDED PRECEDING AND CURRENT ROW) AS 'ema'\n",
    "FROM `cleaned_environment`\n",
    "LIMIT 10;"
   ]
  },
  {
   "cell_type": "raw",
   "metadata": {},
   "source": [
    " ***Your Output: \n",
    "    Total Records Fetched: 10\n",
    "    First 10 records of your query\n",
    "    Headers: \n",
    "    device_id, timestamp, temperature, ema, \n",
    "    \n",
    "    Values:\n",
    "    00:0f:00:70:91:0a, 1970-01-01 00:00:01.590, 19.20000076, 19.20000076, \n",
    "    00:0f:00:70:91:0a, 1970-01-01 00:00:01.590, 19.0, 19.10000038, \n",
    "    00:0f:00:70:91:0a, 1970-01-01 00:00:01.590, 19.20000076, 19.133333840000002, \n",
    "    00:0f:00:70:91:0a, 1970-01-01 00:00:01.590, 19.20000076, 19.150000570000003, \n",
    "    00:0f:00:70:91:0a, 1970-01-01 00:00:01.590, 19.70000076, 19.260000608000002, \n",
    "    00:0f:00:70:91:0a, 1970-01-01 00:00:01.590, 19.0, 19.216667173333335, \n",
    "    00:0f:00:70:91:0a, 1970-01-01 00:00:01.590, 19.10000038, 19.20000048857143, \n",
    "    00:0f:00:70:91:0a, 1970-01-01 00:00:01.590, 19.20000076, 19.2000005225, \n",
    "    00:0f:00:70:91:0a, 1970-01-01 00:00:01.590, 19.0, 19.177778242222224, \n",
    "    00:0f:00:70:91:0a, 1970-01-01 00:00:01.590, 18.89999962, 19.15000038,"
   ]
  },
  {
   "cell_type": "markdown",
   "metadata": {},
   "source": [
    "**The objective is to identify the devices that have recorded the highest average temperature among all the devices in the dataset.**"
   ]
  },
  {
   "cell_type": "raw",
   "metadata": {},
   "source": [
    "SELECT device_id, AVG(temperature) AS average_temperature\n",
    "FROM cleaned_environment\n",
    "GROUP BY device_id\n",
    "ORDER BY average_temperature DESC\n",
    "LIMIT 3;\n"
   ]
  },
  {
   "cell_type": "markdown",
   "metadata": {},
   "source": [
    "***Your Output: \n",
    "    Total Records Fetched: 3\n",
    "    First 10 records of your query\n",
    "    Headers: \n",
    "    device_id, average_temperature, \n",
    "    \n",
    "    Values:\n",
    "    1c:bf:ce:15:ec:4d, 25.74819386883109, \n",
    "    b8:27:eb:bf:9d:51, 21.90250558101217, \n",
    "    00:0f:00:70:91:0a, 19.1555931817043, \n",
    "    "
   ]
  },
  {
   "cell_type": "markdown",
   "metadata": {},
   "source": [
    "**The goal is to calculate the average temperature for each hour of the day, considering data from all devices**"
   ]
  },
  {
   "cell_type": "raw",
   "metadata": {},
   "source": [
    "SELECT HOUR(timestamp) AS hour_of_day, AVG(temperature) AS average_temperature\n",
    "FROM cleaned_environment\n",
    "GROUP BY HOUR(timestamp)\n",
    "ORDER BY hour_of_day;\n"
   ]
  },
  {
   "cell_type": "raw",
   "metadata": {},
   "source": [
    " ***Your Output: \n",
    "    Total Records Fetched: 1\n",
    "    First 10 records of your query\n",
    "    Headers: \n",
    "    hour_of_day, average_temperature, \n",
    "    \n",
    "    Values:\n",
    "    0, 22.432296053374028, "
   ]
  },
  {
   "cell_type": "markdown",
   "metadata": {},
   "source": [
    "**The objective is to identify device(s) in the cleaned environment dataset have recorded only a single distinct temperature value.**"
   ]
  },
  {
   "cell_type": "raw",
   "metadata": {},
   "source": [
    "# SELECT device_id\n",
    "FROM (\n",
    "    SELECT device_id, COUNT(DISTINCT temperature) AS distinct_temperature_count\n",
    "    FROM cleaned_environment\n",
    "    GROUP BY device_id\n",
    ") AS subquery\n",
    "WHERE distinct_temperature_count = 1;\n"
   ]
  },
  {
   "cell_type": "raw",
   "metadata": {},
   "source": [
    "***Your Output: \n",
    "    Total Records Fetched: 0\n",
    "    First 10 records of your query"
   ]
  },
  {
   "cell_type": "markdown",
   "metadata": {},
   "source": [
    "**The objective is to identify the devices that have recorded the highest humidity levels**"
   ]
  },
  {
   "cell_type": "raw",
   "metadata": {},
   "source": [
    "SELECT device_id, MAX(humidity) AS max_humidity\n",
    "FROM cleaned_environment\n",
    "GROUP BY device_id\n",
    "LIMIT 3;"
   ]
  },
  {
   "cell_type": "raw",
   "metadata": {},
   "source": [
    "***Your Output: \n",
    "    Total Records Fetched: 3\n",
    "    First 10 records of your query\n",
    "    Headers: \n",
    "    device_id, max_humidity, \n",
    "    \n",
    "    Values:\n",
    "    b8:27:eb:bf:9d:51, 55.5, \n",
    "    00:0f:00:70:91:0a, 78.09999847, \n",
    "    1c:bf:ce:15:ec:4d, 79.30000305, "
   ]
  },
  {
   "cell_type": "markdown",
   "metadata": {},
   "source": [
    "**This task requires calculating the average temperature for each device while excluding outliers, which are temperatures beyond 3 standard deviations from the mean**"
   ]
  },
  {
   "cell_type": "raw",
   "metadata": {},
   "source": [
    "SELECT device_id, AVG(temperature) AS average_temperature\n",
    "FROM (\n",
    "    SELECT device_id, temperature\n",
    "    FROM cleaned_environment\n",
    "    WHERE temperature BETWEEN (\n",
    "            SELECT AVG(temperature) - (3 * STDDEV(temperature))\n",
    "            FROM cleaned_environment\n",
    "        ) AND (\n",
    "            SELECT AVG(temperature) + (3 * STDDEV(temperature))\n",
    "            FROM cleaned_environment\n",
    "        )\n",
    ") AS filtered_data\n",
    "GROUP BY device_id;\n"
   ]
  },
  {
   "cell_type": "raw",
   "metadata": {},
   "source": [
    " ***Your Output: \n",
    "    Total Records Fetched: 3\n",
    "    First 10 records of your query\n",
    "    Headers: \n",
    "    device_id, average_temperature, \n",
    "    \n",
    "    Values:\n",
    "    b8:27:eb:bf:9d:51, 21.90250558101217, \n",
    "    00:0f:00:70:91:0a, 19.236722003048314, \n",
    "    1c:bf:ce:15:ec:4d, 25.783753716559865,"
   ]
  },
  {
   "cell_type": "markdown",
   "metadata": {},
   "source": [
    "**The goal is to identify devices that have undergone a sudden change in humidity, where the difference is greater than 50%, within a 30-minute time window.**"
   ]
  },
  {
   "cell_type": "markdown",
   "metadata": {},
   "source": [
    "SELECT table1.device_id, table1.timestamp, table1.humidity\n",
    "FROM\n",
    "(SELECT device_id, timestamp,\n",
    "humidity,\n",
    "LAG(humidity,1) OVER (\n",
    "PARTITION BY device_id\n",
    "ORDER BY timestamp),\n",
    "(humidity - (LAG(humidity,1) OVER (\n",
    "PARTITION BY device_id\n",
    "ORDER BY timestamp))) diff,\n",
    "ABS((humidity - (LAG(humidity,1) OVER (\n",
    "PARTITION BY device_id\n",
    "ORDER BY timestamp)))*100) c1\n",
    "FROM `cleaned_environment`) table1\n",
    "WHERE table1.c1 > 50;"
   ]
  },
  {
   "cell_type": "markdown",
   "metadata": {},
   "source": [
    "**This task involves calculating the average temperature for each device separately for weekdays and weekends**"
   ]
  },
  {
   "cell_type": "raw",
   "metadata": {},
   "source": [
    "SELECT device_id, \n",
    "       CASE \n",
    "           WHEN DAYOFWEEK(timestamp) IN (1, 7) THEN 'Weekend'\n",
    "           ELSE 'Weekday'\n",
    "       END AS day_type,\n",
    "       AVG(temperature) AS avg_temperature\n",
    "FROM cleaned_environment\n",
    "GROUP BY device_id, day_type;\n"
   ]
  },
  {
   "cell_type": "raw",
   "metadata": {},
   "source": [
    "***Your Output: \n",
    "    Total Records Fetched: 3\n",
    "    First 10 records of your query\n",
    "    Headers: \n",
    "    device_id, day_type, avg_temperature, \n",
    "    \n",
    "    Values:\n",
    "    b8:27:eb:bf:9d:51, Weekday, 21.90250558101217, \n",
    "    00:0f:00:70:91:0a, Weekday, 19.1555931817043, \n",
    "    1c:bf:ce:15:ec:4d, Weekday, 25.74819386883109, "
   ]
  },
  {
   "cell_type": "markdown",
   "metadata": {},
   "source": [
    "**The objective is to calculate the cumulative sum of temperature for each device, considering the records ordered by timestamp limit to 10**"
   ]
  },
  {
   "cell_type": "raw",
   "metadata": {},
   "source": [
    "SELECT device_id, timestamp, temperature,\n",
    "       SUM(temperature) OVER (PARTITION BY device_id ORDER BY timestamp) AS cumulative_temperature\n",
    "FROM cleaned_environment\n",
    "LIMIT 10;\n"
   ]
  },
  {
   "cell_type": "raw",
   "metadata": {},
   "source": [
    "***Your Output: \n",
    "    Total Records Fetched: 10\n",
    "    First 10 records of your query\n",
    "    Headers: \n",
    "    device_id, timestamp, temperature, cumulative_temperature, \n",
    "    \n",
    "    Values:\n",
    "    00:0f:00:70:91:0a, 1970-01-01 00:00:01.590, 19.20000076, 130143.10007649903, \n",
    "    00:0f:00:70:91:0a, 1970-01-01 00:00:01.590, 19.0, 130143.10007649903, \n",
    "    00:0f:00:70:91:0a, 1970-01-01 00:00:01.590, 19.20000076, 130143.10007649903, \n",
    "    00:0f:00:70:91:0a, 1970-01-01 00:00:01.590, 19.20000076, 130143.10007649903, \n",
    "    00:0f:00:70:91:0a, 1970-01-01 00:00:01.590, 19.70000076, 130143.10007649903, \n",
    "    00:0f:00:70:91:0a, 1970-01-01 00:00:01.590, 19.0, 130143.10007649903, \n",
    "    00:0f:00:70:91:0a, 1970-01-01 00:00:01.590, 19.10000038, 130143.10007649903, \n",
    "    00:0f:00:70:91:0a, 1970-01-01 00:00:01.590, 19.20000076, 130143.10007649903, \n",
    "    00:0f:00:70:91:0a, 1970-01-01 00:00:01.590, 19.0, 130143.10007649903, \n",
    "    00:0f:00:70:91:0a, 1970-01-01 00:00:01.590, 18.89999962, 130143.10007649903, "
   ]
  },
  {
   "cell_type": "code",
   "execution_count": null,
   "metadata": {},
   "outputs": [],
   "source": []
  }
 ],
 "metadata": {
  "kernelspec": {
   "display_name": "Python 3",
   "language": "python",
   "name": "python3"
  },
  "language_info": {
   "codemirror_mode": {
    "name": "ipython",
    "version": 3
   },
   "file_extension": ".py",
   "mimetype": "text/x-python",
   "name": "python",
   "nbconvert_exporter": "python",
   "pygments_lexer": "ipython3",
   "version": "3.8.3"
  }
 },
 "nbformat": 4,
 "nbformat_minor": 4
}
